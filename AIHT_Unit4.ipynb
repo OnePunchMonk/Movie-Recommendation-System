{
  "cells": [
    {
      "cell_type": "markdown",
      "source": [
        "# Imports"
      ],
      "metadata": {
        "id": "8bbtO9BLijRU"
      }
    },
    {
      "cell_type": "code",
      "execution_count": null,
      "metadata": {
        "colab": {
          "base_uri": "https://localhost:8080/"
        },
        "id": "SC9_nAw2UDIL",
        "outputId": "6a93278e-421b-485b-d76f-29a0eaa99e9c"
      },
      "outputs": [
        {
          "output_type": "stream",
          "name": "stdout",
          "text": [
            "Reading package lists... Done\n",
            "Building dependency tree... Done\n",
            "Reading state information... Done\n",
            "openjdk-8-jdk is already the newest version (8u442-b06~us1-0ubuntu1~22.04).\n",
            "0 upgraded, 0 newly installed, 0 to remove and 41 not upgraded.\n",
            "--2025-04-22 12:17:14--  https://downloads.apache.org/spark/spark-3.5.5/spark-3.5.5-bin-hadoop3.tgz\n",
            "Resolving downloads.apache.org (downloads.apache.org)... 88.99.208.237, 135.181.214.104, 2a01:4f9:3a:2c57::2, ...\n",
            "Connecting to downloads.apache.org (downloads.apache.org)|88.99.208.237|:443... connected.\n",
            "HTTP request sent, awaiting response... 200 OK\n",
            "Length: 400724056 (382M) [application/x-gzip]\n",
            "Saving to: ‘spark-3.5.5-bin-hadoop3.tgz.2’\n",
            "\n",
            "spark-3.5.5-bin-had 100%[===================>] 382.16M  61.7MB/s    in 5.5s    \n",
            "\n",
            "2025-04-22 12:17:20 (69.2 MB/s) - ‘spark-3.5.5-bin-hadoop3.tgz.2’ saved [400724056/400724056]\n",
            "\n"
          ]
        }
      ],
      "source": [
        "!apt-get install openjdk-8-jdk -y\n",
        "!wget https://downloads.apache.org/spark/spark-3.5.5/spark-3.5.5-bin-hadoop3.tgz\n",
        "!tar xf spark-3.5.5-bin-hadoop3.tgz\n",
        "!pip install -q findspark\n",
        "import os\n",
        "os.environ[\"JAVA_HOME\"] = \"/usr/lib/jvm/java-8-openjdk-amd64\"\n",
        "os.environ[\"SPARK_HOME\"] = \"/content/spark-3.5.5-bin-hadoop3\"\n",
        "import findspark\n",
        "findspark.init()\n",
        "from pyspark.sql import SparkSession\n",
        "from pyspark.sql.types import StructField, StructType, IntegerType, StringType, BooleanType, DateType, DecimalType, LongType\n",
        "from pyspark.sql.functions import col, when, sum, avg, row_number, to_date\n",
        "from pyspark.sql.window import Window\n",
        "spark = SparkSession.builder.appName(\"Movie Recommender System\").getOrCreate()"
      ]
    },
    {
      "cell_type": "code",
      "execution_count": null,
      "metadata": {
        "colab": {
          "base_uri": "https://localhost:8080/"
        },
        "id": "cxVm-6A1UFGd",
        "outputId": "c8aabb38-9902-413f-f89b-9d7315f2ed05"
      },
      "outputs": [
        {
          "output_type": "stream",
          "name": "stdout",
          "text": [
            "Drive already mounted at /content/drive; to attempt to forcibly remount, call drive.mount(\"/content/drive\", force_remount=True).\n",
            "['ml-latest-small']\n"
          ]
        }
      ],
      "source": [
        "from google.colab import drive\n",
        "drive.mount('/content/drive')\n",
        "import os\n",
        "\n",
        "folder_path = '/content/drive/MyDrive/ml-latest-small'\n",
        "files = os.listdir(folder_path)\n",
        "\n",
        "print(files)\n"
      ]
    },
    {
      "cell_type": "code",
      "execution_count": null,
      "metadata": {
        "colab": {
          "base_uri": "https://localhost:8080/"
        },
        "id": "niLYdG3_UNBP",
        "outputId": "d1b040e4-fb8c-48bd-ac59-caed5593701f"
      },
      "outputs": [
        {
          "output_type": "stream",
          "name": "stdout",
          "text": [
            "Requirement already satisfied: pyspark in /usr/local/lib/python3.11/dist-packages (3.5.5)\n",
            "Requirement already satisfied: py4j==0.10.9.7 in /usr/local/lib/python3.11/dist-packages (from pyspark) (0.10.9.7)\n"
          ]
        }
      ],
      "source": [
        "!pip install pyspark\n"
      ]
    },
    {
      "cell_type": "code",
      "source": [
        "from pyspark.sql import SparkSession\n",
        "from pyspark.ml.recommendation import ALS\n",
        "from pyspark.ml.evaluation import RegressionEvaluator\n",
        "from pyspark.sql.functions import col\n",
        "from pyspark.sql.functions import explode"
      ],
      "metadata": {
        "id": "Ac5wWbRMWKPd"
      },
      "execution_count": null,
      "outputs": []
    },
    {
      "cell_type": "code",
      "execution_count": null,
      "metadata": {
        "colab": {
          "base_uri": "https://localhost:8080/"
        },
        "id": "wj1a95AwUNDx",
        "outputId": "a6b1e838-edc4-4dd2-e09e-ae2771c2d8eb"
      },
      "outputs": [
        {
          "output_type": "stream",
          "name": "stdout",
          "text": [
            "Hit:1 http://security.ubuntu.com/ubuntu jammy-security InRelease\n",
            "Hit:2 http://archive.ubuntu.com/ubuntu jammy InRelease\n",
            "Hit:3 http://archive.ubuntu.com/ubuntu jammy-updates InRelease\n",
            "Hit:4 http://archive.ubuntu.com/ubuntu jammy-backports InRelease\n",
            "Hit:5 https://cloud.r-project.org/bin/linux/ubuntu jammy-cran40/ InRelease\n",
            "Hit:6 https://developer.download.nvidia.com/compute/cuda/repos/ubuntu2204/x86_64  InRelease\n",
            "Hit:7 https://ppa.launchpadcontent.net/deadsnakes/ppa/ubuntu jammy InRelease\n",
            "Hit:8 https://ppa.launchpadcontent.net/graphics-drivers/ppa/ubuntu jammy InRelease\n",
            "Hit:9 https://ppa.launchpadcontent.net/ubuntugis/ppa/ubuntu jammy InRelease\n",
            "Hit:10 https://r2u.stat.illinois.edu/ubuntu jammy InRelease\n",
            "Reading package lists... Done\n",
            "W: Skipping acquire of configured file 'main/source/Sources' as repository 'https://r2u.stat.illinois.edu/ubuntu jammy InRelease' does not seem to provide it (sources.list entry misspelt?)\n",
            "Reading package lists... Done\n",
            "Building dependency tree... Done\n",
            "Reading state information... Done\n",
            "openjdk-11-jdk is already the newest version (11.0.26+4-1ubuntu1~22.04).\n",
            "0 upgraded, 0 newly installed, 0 to remove and 41 not upgraded.\n",
            "Requirement already satisfied: pyspark in /usr/local/lib/python3.11/dist-packages (3.5.5)\n",
            "Requirement already satisfied: py4j==0.10.9.7 in /usr/local/lib/python3.11/dist-packages (from pyspark) (0.10.9.7)\n"
          ]
        }
      ],
      "source": [
        "!apt-get update\n",
        "!apt-get install openjdk-11-jdk -y\n",
        "!pip install pyspark\n",
        "\n",
        "import os\n",
        "\n",
        "os.environ[\"JAVA_HOME\"] = \"/usr/lib/jvm/java-11-openjdk-amd64\"\n",
        "os.environ[\"SPARK_HOME\"] = \"/usr/local/lib/python3.11/dist-packages/pyspark\"\n",
        "\n",
        "from pyspark.sql import SparkSession\n",
        "\n",
        "spark = SparkSession.builder \\\n",
        "    .appName(\"MovieRecommendationSystem\") \\\n",
        "    .getOrCreate()\n"
      ]
    },
    {
      "cell_type": "code",
      "execution_count": null,
      "metadata": {
        "id": "sn-dOek8UNGk"
      },
      "outputs": [],
      "source": []
    },
    {
      "cell_type": "code",
      "execution_count": null,
      "metadata": {
        "id": "OrsGvGZFUNJB"
      },
      "outputs": [],
      "source": []
    },
    {
      "cell_type": "code",
      "execution_count": null,
      "metadata": {
        "colab": {
          "base_uri": "https://localhost:8080/"
        },
        "id": "GXx3rAHZUNM3",
        "outputId": "9a119b91-b650-4924-f38b-ca4e58409e82"
      },
      "outputs": [
        {
          "output_type": "stream",
          "name": "stdout",
          "text": [
            "Requirement already satisfied: dbutils in /usr/local/lib/python3.11/dist-packages (3.1.0)\n",
            "Requirement already satisfied: mlflow in /usr/local/lib/python3.11/dist-packages (2.21.3)\n",
            "Requirement already satisfied: mlflow-skinny==2.21.3 in /usr/local/lib/python3.11/dist-packages (from mlflow) (2.21.3)\n",
            "Requirement already satisfied: Flask<4 in /usr/local/lib/python3.11/dist-packages (from mlflow) (3.1.0)\n",
            "Requirement already satisfied: Jinja2<4,>=2.11 in /usr/local/lib/python3.11/dist-packages (from mlflow) (3.1.6)\n",
            "Requirement already satisfied: alembic!=1.10.0,<2 in /usr/local/lib/python3.11/dist-packages (from mlflow) (1.15.2)\n",
            "Requirement already satisfied: docker<8,>=4.0.0 in /usr/local/lib/python3.11/dist-packages (from mlflow) (7.1.0)\n",
            "Requirement already satisfied: graphene<4 in /usr/local/lib/python3.11/dist-packages (from mlflow) (3.4.3)\n",
            "Requirement already satisfied: gunicorn<24 in /usr/local/lib/python3.11/dist-packages (from mlflow) (23.0.0)\n",
            "Requirement already satisfied: markdown<4,>=3.3 in /usr/local/lib/python3.11/dist-packages (from mlflow) (3.8)\n",
            "Requirement already satisfied: matplotlib<4 in /usr/local/lib/python3.11/dist-packages (from mlflow) (3.10.0)\n",
            "Requirement already satisfied: numpy<3 in /usr/local/lib/python3.11/dist-packages (from mlflow) (2.0.2)\n",
            "Requirement already satisfied: pandas<3 in /usr/local/lib/python3.11/dist-packages (from mlflow) (2.2.2)\n",
            "Requirement already satisfied: pyarrow<20,>=4.0.0 in /usr/local/lib/python3.11/dist-packages (from mlflow) (18.1.0)\n",
            "Requirement already satisfied: scikit-learn<2 in /usr/local/lib/python3.11/dist-packages (from mlflow) (1.6.1)\n",
            "Requirement already satisfied: scipy<2 in /usr/local/lib/python3.11/dist-packages (from mlflow) (1.14.1)\n",
            "Requirement already satisfied: sqlalchemy<3,>=1.4.0 in /usr/local/lib/python3.11/dist-packages (from mlflow) (2.0.40)\n",
            "Requirement already satisfied: cachetools<6,>=5.0.0 in /usr/local/lib/python3.11/dist-packages (from mlflow-skinny==2.21.3->mlflow) (5.5.2)\n",
            "Requirement already satisfied: click<9,>=7.0 in /usr/local/lib/python3.11/dist-packages (from mlflow-skinny==2.21.3->mlflow) (8.1.8)\n",
            "Requirement already satisfied: cloudpickle<4 in /usr/local/lib/python3.11/dist-packages (from mlflow-skinny==2.21.3->mlflow) (3.1.1)\n",
            "Requirement already satisfied: databricks-sdk<1,>=0.20.0 in /usr/local/lib/python3.11/dist-packages (from mlflow-skinny==2.21.3->mlflow) (0.50.0)\n",
            "Requirement already satisfied: fastapi<1 in /usr/local/lib/python3.11/dist-packages (from mlflow-skinny==2.21.3->mlflow) (0.115.12)\n",
            "Requirement already satisfied: gitpython<4,>=3.1.9 in /usr/local/lib/python3.11/dist-packages (from mlflow-skinny==2.21.3->mlflow) (3.1.44)\n",
            "Requirement already satisfied: importlib_metadata!=4.7.0,<9,>=3.7.0 in /usr/local/lib/python3.11/dist-packages (from mlflow-skinny==2.21.3->mlflow) (8.6.1)\n",
            "Requirement already satisfied: opentelemetry-api<3,>=1.9.0 in /usr/local/lib/python3.11/dist-packages (from mlflow-skinny==2.21.3->mlflow) (1.32.1)\n",
            "Requirement already satisfied: opentelemetry-sdk<3,>=1.9.0 in /usr/local/lib/python3.11/dist-packages (from mlflow-skinny==2.21.3->mlflow) (1.32.1)\n",
            "Requirement already satisfied: packaging<25 in /usr/local/lib/python3.11/dist-packages (from mlflow-skinny==2.21.3->mlflow) (24.2)\n",
            "Requirement already satisfied: protobuf<6,>=3.12.0 in /usr/local/lib/python3.11/dist-packages (from mlflow-skinny==2.21.3->mlflow) (5.29.4)\n",
            "Requirement already satisfied: pydantic<3,>=1.10.8 in /usr/local/lib/python3.11/dist-packages (from mlflow-skinny==2.21.3->mlflow) (2.11.3)\n",
            "Requirement already satisfied: pyyaml<7,>=5.1 in /usr/local/lib/python3.11/dist-packages (from mlflow-skinny==2.21.3->mlflow) (6.0.2)\n",
            "Requirement already satisfied: requests<3,>=2.17.3 in /usr/local/lib/python3.11/dist-packages (from mlflow-skinny==2.21.3->mlflow) (2.32.3)\n",
            "Requirement already satisfied: sqlparse<1,>=0.4.0 in /usr/local/lib/python3.11/dist-packages (from mlflow-skinny==2.21.3->mlflow) (0.5.3)\n",
            "Requirement already satisfied: typing-extensions<5,>=4.0.0 in /usr/local/lib/python3.11/dist-packages (from mlflow-skinny==2.21.3->mlflow) (4.13.2)\n",
            "Requirement already satisfied: uvicorn<1 in /usr/local/lib/python3.11/dist-packages (from mlflow-skinny==2.21.3->mlflow) (0.34.2)\n",
            "Requirement already satisfied: Mako in /usr/lib/python3/dist-packages (from alembic!=1.10.0,<2->mlflow) (1.1.3)\n",
            "Requirement already satisfied: urllib3>=1.26.0 in /usr/local/lib/python3.11/dist-packages (from docker<8,>=4.0.0->mlflow) (2.3.0)\n",
            "Requirement already satisfied: Werkzeug>=3.1 in /usr/local/lib/python3.11/dist-packages (from Flask<4->mlflow) (3.1.3)\n",
            "Requirement already satisfied: itsdangerous>=2.2 in /usr/local/lib/python3.11/dist-packages (from Flask<4->mlflow) (2.2.0)\n",
            "Requirement already satisfied: blinker>=1.9 in /usr/local/lib/python3.11/dist-packages (from Flask<4->mlflow) (1.9.0)\n",
            "Requirement already satisfied: graphql-core<3.3,>=3.1 in /usr/local/lib/python3.11/dist-packages (from graphene<4->mlflow) (3.2.6)\n",
            "Requirement already satisfied: graphql-relay<3.3,>=3.1 in /usr/local/lib/python3.11/dist-packages (from graphene<4->mlflow) (3.2.0)\n",
            "Requirement already satisfied: python-dateutil<3,>=2.7.0 in /usr/local/lib/python3.11/dist-packages (from graphene<4->mlflow) (2.8.2)\n",
            "Requirement already satisfied: MarkupSafe>=2.0 in /usr/local/lib/python3.11/dist-packages (from Jinja2<4,>=2.11->mlflow) (3.0.2)\n",
            "Requirement already satisfied: contourpy>=1.0.1 in /usr/local/lib/python3.11/dist-packages (from matplotlib<4->mlflow) (1.3.2)\n",
            "Requirement already satisfied: cycler>=0.10 in /usr/local/lib/python3.11/dist-packages (from matplotlib<4->mlflow) (0.12.1)\n",
            "Requirement already satisfied: fonttools>=4.22.0 in /usr/local/lib/python3.11/dist-packages (from matplotlib<4->mlflow) (4.57.0)\n",
            "Requirement already satisfied: kiwisolver>=1.3.1 in /usr/local/lib/python3.11/dist-packages (from matplotlib<4->mlflow) (1.4.8)\n",
            "Requirement already satisfied: pillow>=8 in /usr/local/lib/python3.11/dist-packages (from matplotlib<4->mlflow) (11.1.0)\n",
            "Requirement already satisfied: pyparsing>=2.3.1 in /usr/local/lib/python3.11/dist-packages (from matplotlib<4->mlflow) (3.2.3)\n",
            "Requirement already satisfied: pytz>=2020.1 in /usr/local/lib/python3.11/dist-packages (from pandas<3->mlflow) (2025.2)\n",
            "Requirement already satisfied: tzdata>=2022.7 in /usr/local/lib/python3.11/dist-packages (from pandas<3->mlflow) (2025.2)\n",
            "Requirement already satisfied: joblib>=1.2.0 in /usr/local/lib/python3.11/dist-packages (from scikit-learn<2->mlflow) (1.4.2)\n",
            "Requirement already satisfied: threadpoolctl>=3.1.0 in /usr/local/lib/python3.11/dist-packages (from scikit-learn<2->mlflow) (3.6.0)\n",
            "Requirement already satisfied: greenlet>=1 in /usr/local/lib/python3.11/dist-packages (from sqlalchemy<3,>=1.4.0->mlflow) (3.2.0)\n",
            "Requirement already satisfied: google-auth~=2.0 in /usr/local/lib/python3.11/dist-packages (from databricks-sdk<1,>=0.20.0->mlflow-skinny==2.21.3->mlflow) (2.38.0)\n",
            "Requirement already satisfied: starlette<0.47.0,>=0.40.0 in /usr/local/lib/python3.11/dist-packages (from fastapi<1->mlflow-skinny==2.21.3->mlflow) (0.46.2)\n",
            "Requirement already satisfied: gitdb<5,>=4.0.1 in /usr/local/lib/python3.11/dist-packages (from gitpython<4,>=3.1.9->mlflow-skinny==2.21.3->mlflow) (4.0.12)\n",
            "Requirement already satisfied: zipp>=3.20 in /usr/local/lib/python3.11/dist-packages (from importlib_metadata!=4.7.0,<9,>=3.7.0->mlflow-skinny==2.21.3->mlflow) (3.21.0)\n",
            "Requirement already satisfied: deprecated>=1.2.6 in /usr/local/lib/python3.11/dist-packages (from opentelemetry-api<3,>=1.9.0->mlflow-skinny==2.21.3->mlflow) (1.2.18)\n",
            "Requirement already satisfied: opentelemetry-semantic-conventions==0.53b1 in /usr/local/lib/python3.11/dist-packages (from opentelemetry-sdk<3,>=1.9.0->mlflow-skinny==2.21.3->mlflow) (0.53b1)\n",
            "Requirement already satisfied: annotated-types>=0.6.0 in /usr/local/lib/python3.11/dist-packages (from pydantic<3,>=1.10.8->mlflow-skinny==2.21.3->mlflow) (0.7.0)\n",
            "Requirement already satisfied: pydantic-core==2.33.1 in /usr/local/lib/python3.11/dist-packages (from pydantic<3,>=1.10.8->mlflow-skinny==2.21.3->mlflow) (2.33.1)\n",
            "Requirement already satisfied: typing-inspection>=0.4.0 in /usr/local/lib/python3.11/dist-packages (from pydantic<3,>=1.10.8->mlflow-skinny==2.21.3->mlflow) (0.4.0)\n",
            "Requirement already satisfied: six>=1.5 in /usr/local/lib/python3.11/dist-packages (from python-dateutil<3,>=2.7.0->graphene<4->mlflow) (1.17.0)\n",
            "Requirement already satisfied: charset-normalizer<4,>=2 in /usr/local/lib/python3.11/dist-packages (from requests<3,>=2.17.3->mlflow-skinny==2.21.3->mlflow) (3.4.1)\n",
            "Requirement already satisfied: idna<4,>=2.5 in /usr/local/lib/python3.11/dist-packages (from requests<3,>=2.17.3->mlflow-skinny==2.21.3->mlflow) (3.10)\n",
            "Requirement already satisfied: certifi>=2017.4.17 in /usr/local/lib/python3.11/dist-packages (from requests<3,>=2.17.3->mlflow-skinny==2.21.3->mlflow) (2025.1.31)\n",
            "Requirement already satisfied: h11>=0.8 in /usr/local/lib/python3.11/dist-packages (from uvicorn<1->mlflow-skinny==2.21.3->mlflow) (0.14.0)\n",
            "Requirement already satisfied: wrapt<2,>=1.10 in /usr/local/lib/python3.11/dist-packages (from deprecated>=1.2.6->opentelemetry-api<3,>=1.9.0->mlflow-skinny==2.21.3->mlflow) (1.17.2)\n",
            "Requirement already satisfied: smmap<6,>=3.0.1 in /usr/local/lib/python3.11/dist-packages (from gitdb<5,>=4.0.1->gitpython<4,>=3.1.9->mlflow-skinny==2.21.3->mlflow) (5.0.2)\n",
            "Requirement already satisfied: pyasn1-modules>=0.2.1 in /usr/local/lib/python3.11/dist-packages (from google-auth~=2.0->databricks-sdk<1,>=0.20.0->mlflow-skinny==2.21.3->mlflow) (0.4.2)\n",
            "Requirement already satisfied: rsa<5,>=3.1.4 in /usr/local/lib/python3.11/dist-packages (from google-auth~=2.0->databricks-sdk<1,>=0.20.0->mlflow-skinny==2.21.3->mlflow) (4.9.1)\n",
            "Requirement already satisfied: anyio<5,>=3.6.2 in /usr/local/lib/python3.11/dist-packages (from starlette<0.47.0,>=0.40.0->fastapi<1->mlflow-skinny==2.21.3->mlflow) (4.9.0)\n",
            "Requirement already satisfied: sniffio>=1.1 in /usr/local/lib/python3.11/dist-packages (from anyio<5,>=3.6.2->starlette<0.47.0,>=0.40.0->fastapi<1->mlflow-skinny==2.21.3->mlflow) (1.3.1)\n",
            "Requirement already satisfied: pyasn1<0.7.0,>=0.6.1 in /usr/local/lib/python3.11/dist-packages (from pyasn1-modules>=0.2.1->google-auth~=2.0->databricks-sdk<1,>=0.20.0->mlflow-skinny==2.21.3->mlflow) (0.6.1)\n"
          ]
        }
      ],
      "source": [
        "!pip install dbutils\n",
        "!pip install mlflow\n"
      ]
    },
    {
      "cell_type": "code",
      "execution_count": null,
      "metadata": {
        "id": "hEbpnbiwUNP_"
      },
      "outputs": [],
      "source": [
        "import numpy as np\n",
        "import pandas as pd\n",
        "import seaborn as sns\n",
        "import matplotlib.pyplot as plt\n",
        "import math\n",
        "%matplotlib inline\n",
        "\n",
        "import mlflow\n",
        "import os\n",
        "os.environ[\"PYSPARK_PYTHON\"] = \"python3\""
      ]
    },
    {
      "cell_type": "markdown",
      "source": [
        "# Create pyspark session"
      ],
      "metadata": {
        "id": "wqlZY0QCiqzT"
      }
    },
    {
      "cell_type": "code",
      "execution_count": null,
      "metadata": {
        "id": "n5hHjEFMVCfJ"
      },
      "outputs": [],
      "source": [
        "from pyspark.sql import SparkSession\n",
        "spark = SparkSession \\\n",
        "    .builder \\\n",
        "    .appName(\"movie analysis\") \\\n",
        "    .config(\"spark.some.config.option\", \"some-value\") \\\n",
        "    .getOrCreate()"
      ]
    },
    {
      "cell_type": "code",
      "execution_count": null,
      "metadata": {
        "id": "kNQsu3HeVFbh"
      },
      "outputs": [],
      "source": [
        "movies_df = spark.read.load(\"/content/drive/MyDrive/ml-latest-small/ml-latest-small/movies.csv\", format='csv', header = True)\n",
        "ratings_df = spark.read.load(\"/content/drive/MyDrive/ml-latest-small/ml-latest-small/ratings.csv\", format='csv', header = True)\n",
        "links_df = spark.read.load(\"/content/drive/MyDrive/ml-latest-small/ml-latest-small/links.csv\", format='csv', header = True)\n",
        "tags_df = spark.read.load(\"/content/drive/MyDrive/ml-latest-small/ml-latest-small/tags.csv\", format='csv', header = True)"
      ]
    },
    {
      "cell_type": "code",
      "execution_count": null,
      "metadata": {
        "colab": {
          "base_uri": "https://localhost:8080/",
          "height": 329
        },
        "id": "DvjMQa_IVHN6",
        "outputId": "8b68a196-bf1f-4da9-82ac-cd737d89f908"
      },
      "outputs": [
        {
          "output_type": "display_data",
          "data": {
            "text/plain": [
              "DataFrame[movieId: string, title: string, genres: string]"
            ]
          },
          "metadata": {}
        },
        {
          "output_type": "display_data",
          "data": {
            "text/plain": [
              "DataFrame[userId: string, movieId: string, rating: string, timestamp: string]"
            ]
          },
          "metadata": {}
        },
        {
          "output_type": "stream",
          "name": "stdout",
          "text": [
            "+-------+-------+------+\n",
            "|movieId| imdbId|tmdbId|\n",
            "+-------+-------+------+\n",
            "|      1|0114709|   862|\n",
            "|      2|0113497|  8844|\n",
            "|      3|0113228| 15602|\n",
            "|      4|0114885| 31357|\n",
            "|      5|0113041| 11862|\n",
            "+-------+-------+------+\n",
            "only showing top 5 rows\n",
            "\n"
          ]
        },
        {
          "output_type": "display_data",
          "data": {
            "text/plain": [
              "DataFrame[movieId: string, imdbId: string, tmdbId: string]"
            ]
          },
          "metadata": {}
        },
        {
          "output_type": "display_data",
          "data": {
            "text/plain": [
              "DataFrame[userId: string, movieId: string, tag: string, timestamp: string]"
            ]
          },
          "metadata": {}
        },
        {
          "output_type": "stream",
          "name": "stdout",
          "text": [
            "For the users that rated movies and the movies that were rated:\n",
            "Minimum number of ratings per user is 20\n",
            "Minimum number of ratings per movie is 1\n"
          ]
        }
      ],
      "source": [
        "\n",
        "movies_df.createOrReplaceTempView(\"movies_df\")\n",
        "display (spark.sql(\"SELECT * FROM movies_df limit 5\"))\n",
        "\n",
        "ratings_df.createOrReplaceTempView(\"ratings_df\")\n",
        "display (spark.sql(\"SELECT * FROM ratings_df limit 5\"))\n",
        "\n",
        "links_df.show(5)\n",
        "links_df.createOrReplaceTempView(\"links_df\")\n",
        "display (spark.sql(\"SELECT * FROM links_df limit 5\"))\n",
        "\n",
        "tags_df.createOrReplaceTempView(\"tags_df\")\n",
        "display (spark.sql(\"SELECT * FROM tags_df limit 5\"))\n",
        "\n",
        "\n",
        "tmp1 = ratings_df.groupBy(\"userID\").count().toPandas()['count'].min()\n",
        "tmp2 = ratings_df.groupBy(\"movieId\").count().toPandas()['count'].min()\n",
        "print('For the users that rated movies and the movies that were rated:')\n",
        "print('Minimum number of ratings per user is {}'.format(tmp1))\n",
        "print('Minimum number of ratings per movie is {}'.format(tmp2))\n",
        "\n",
        "\n"
      ]
    },
    {
      "cell_type": "code",
      "execution_count": null,
      "metadata": {
        "colab": {
          "base_uri": "https://localhost:8080/"
        },
        "id": "4BD4390AVPEb",
        "outputId": "50fcfaad-36c2-46ae-c8ca-8d2fa5a90260"
      },
      "outputs": [
        {
          "output_type": "stream",
          "name": "stderr",
          "text": [
            "/content/spark-3.5.5-bin-hadoop3/python/pyspark/sql/dataframe.py:329: FutureWarning: Deprecated in 2.0, use createOrReplaceTempView instead.\n",
            "  warnings.warn(\"Deprecated in 2.0, use createOrReplaceTempView instead.\", FutureWarning)\n"
          ]
        }
      ],
      "source": [
        "movies_df.registerTempTable(\"movies\")\n",
        "ratings_df.registerTempTable(\"ratings\")\n",
        "links_df.registerTempTable(\"links\")\n",
        "tags_df.registerTempTable(\"tags\")"
      ]
    },
    {
      "cell_type": "code",
      "execution_count": null,
      "metadata": {
        "id": "z4AqdwAkVPgh"
      },
      "outputs": [],
      "source": [
        "num_users = spark.sql(\"SELECT count (distinct userID) as num_users FROM ratings\")\n",
        "# display(num_users)\n",
        "ratings_df.createOrReplaceTempView(\"ratings_df\")\n",
        "# display (spark.sql(\"SELECT * FROM ratings_df limit 5\"))"
      ]
    },
    {
      "cell_type": "markdown",
      "source": [
        "# Build the model"
      ],
      "metadata": {
        "id": "GDzxUXdkjWns"
      }
    },
    {
      "cell_type": "code",
      "source": [],
      "metadata": {
        "id": "Sobxufr8QNGe"
      },
      "execution_count": null,
      "outputs": []
    },
    {
      "cell_type": "code",
      "execution_count": null,
      "metadata": {
        "colab": {
          "base_uri": "https://localhost:8080/"
        },
        "id": "C8yyW0RgVZBr",
        "outputId": "8b2ee403-bb7b-40ee-c03e-f19aeec9627e"
      },
      "outputs": [
        {
          "output_type": "stream",
          "name": "stdout",
          "text": [
            "alpha: alpha for implicit preference (default: 1.0)\n",
            "blockSize: block size for stacking input data in matrices. Data is stacked within partitions. If block size is more than remaining data in a partition then it is adjusted to the size of this data. (default: 4096)\n",
            "checkpointInterval: set checkpoint interval (>= 1) or disable checkpoint (-1). E.g. 10 means that the cache will get checkpointed every 10 iterations. Note: this setting will be ignored if the checkpoint directory is not set in the SparkContext. (default: 10)\n",
            "coldStartStrategy: strategy for dealing with unknown or new users/items at prediction time. This may be useful in cross-validation or production scenarios, for handling user/item ids the model has not seen in the training data. Supported values: 'nan', 'drop'. (default: nan, current: drop)\n",
            "finalStorageLevel: StorageLevel for ALS model factors. (default: MEMORY_AND_DISK)\n",
            "implicitPrefs: whether to use implicit preference (default: False)\n",
            "intermediateStorageLevel: StorageLevel for intermediate datasets. Cannot be 'NONE'. (default: MEMORY_AND_DISK)\n",
            "itemCol: column name for item ids. Ids must be within the integer value range. (default: item, current: movieId)\n",
            "maxIter: max number of iterations (>= 0). (default: 10, current: 5)\n",
            "nonnegative: whether to use nonnegative constraint for least squares (default: False)\n",
            "numItemBlocks: number of item blocks (default: 10)\n",
            "numUserBlocks: number of user blocks (default: 10)\n",
            "predictionCol: prediction column name. (default: prediction)\n",
            "rank: rank of the factorization (default: 10, current: 10)\n",
            "ratingCol: column name for ratings (default: rating, current: rating)\n",
            "regParam: regularization parameter (>= 0). (default: 0.1, current: 0.01)\n",
            "seed: random seed. (default: 7397388449117207829)\n",
            "userCol: column name for user ids. Ids must be within the integer value range. (default: user, current: userId)\n"
          ]
        }
      ],
      "source": [
        "movie_ratings=ratings_df.drop('timestamp')\n",
        "\n",
        "\n",
        "from pyspark.sql.types import IntegerType, FloatType\n",
        "movie_ratings = movie_ratings.withColumn(\"userId\", movie_ratings[\"userId\"].cast(IntegerType()))\n",
        "movie_ratings = movie_ratings.withColumn(\"movieId\", movie_ratings[\"movieId\"].cast(IntegerType()))\n",
        "movie_ratings = movie_ratings.withColumn(\"rating\", movie_ratings[\"rating\"].cast(FloatType()))\n",
        "\n",
        "\n",
        "movie_ratings.createOrReplaceTempView(\"movie_ratings\")\n",
        "\n",
        "\n",
        "from pyspark.ml.evaluation import RegressionEvaluator\n",
        "from pyspark.ml.recommendation import ALS\n",
        "from pyspark.ml.tuning import CrossValidator,ParamGridBuilder\n",
        "(training,test)=movie_ratings.randomSplit([0.8,0.2])\n",
        "\n",
        "als = ALS(maxIter=5, rank=10, regParam=0.01, userCol=\"userId\", itemCol=\"movieId\", ratingCol=\"rating\",\n",
        "          coldStartStrategy=\"drop\")\n",
        "print(als.explainParams())"
      ]
    },
    {
      "cell_type": "code",
      "execution_count": null,
      "metadata": {
        "colab": {
          "base_uri": "https://localhost:8080/"
        },
        "id": "LwrexOMjVikB",
        "outputId": "6de6a4cd-ff4c-4c9c-9783-11097ad6cee1"
      },
      "outputs": [
        {
          "output_type": "stream",
          "name": "stdout",
          "text": [
            "Requirement already satisfied: flask-ngrok in /usr/local/lib/python3.11/dist-packages (0.0.25)\n",
            "Requirement already satisfied: Flask>=0.8 in /usr/local/lib/python3.11/dist-packages (from flask-ngrok) (3.1.0)\n",
            "Requirement already satisfied: requests in /usr/local/lib/python3.11/dist-packages (from flask-ngrok) (2.32.3)\n",
            "Requirement already satisfied: Werkzeug>=3.1 in /usr/local/lib/python3.11/dist-packages (from Flask>=0.8->flask-ngrok) (3.1.3)\n",
            "Requirement already satisfied: Jinja2>=3.1.2 in /usr/local/lib/python3.11/dist-packages (from Flask>=0.8->flask-ngrok) (3.1.6)\n",
            "Requirement already satisfied: itsdangerous>=2.2 in /usr/local/lib/python3.11/dist-packages (from Flask>=0.8->flask-ngrok) (2.2.0)\n",
            "Requirement already satisfied: click>=8.1.3 in /usr/local/lib/python3.11/dist-packages (from Flask>=0.8->flask-ngrok) (8.1.8)\n",
            "Requirement already satisfied: blinker>=1.9 in /usr/local/lib/python3.11/dist-packages (from Flask>=0.8->flask-ngrok) (1.9.0)\n",
            "Requirement already satisfied: charset-normalizer<4,>=2 in /usr/local/lib/python3.11/dist-packages (from requests->flask-ngrok) (3.4.1)\n",
            "Requirement already satisfied: idna<4,>=2.5 in /usr/local/lib/python3.11/dist-packages (from requests->flask-ngrok) (3.10)\n",
            "Requirement already satisfied: urllib3<3,>=1.21.1 in /usr/local/lib/python3.11/dist-packages (from requests->flask-ngrok) (2.3.0)\n",
            "Requirement already satisfied: certifi>=2017.4.17 in /usr/local/lib/python3.11/dist-packages (from requests->flask-ngrok) (2025.1.31)\n",
            "Requirement already satisfied: MarkupSafe>=2.0 in /usr/local/lib/python3.11/dist-packages (from Jinja2>=3.1.2->Flask>=0.8->flask-ngrok) (3.0.2)\n",
            "Requirement already satisfied: pyngrok==4.1.1 in /usr/local/lib/python3.11/dist-packages (4.1.1)\n",
            "Requirement already satisfied: future in /usr/local/lib/python3.11/dist-packages (from pyngrok==4.1.1) (1.0.0)\n",
            "Requirement already satisfied: PyYAML in /usr/local/lib/python3.11/dist-packages (from pyngrok==4.1.1) (6.0.2)\n",
            "NAME:\n",
            "   authtoken - save authtoken to configuration file\n",
            "\n",
            "USAGE:\n",
            "   ngrok authtoken [command options] [arguments...]\n",
            "\n",
            "DESCRIPTION:\n",
            "   The authtoken command modifies your configuration file to include\n",
            "   the specified authtoken. By default, this configuration file is located\n",
            "   at $HOME/.ngrok2/ngrok.yml\n",
            "\n",
            "   The ngrok.com service requires that you sign up for an account to use\n",
            "   many advanced service features. In order to associate your client with\n",
            "   an account, it must pass a secret token to the ngrok.com service when it\n",
            "   starts up. Instead of passing this authtoken on every invocation, you may\n",
            "   use this command to save it into your configuration file so that your\n",
            "   client always authenticates you properly.\n",
            "\n",
            "EXAMPLE:\n",
            "    ngrok authtoken BDZIXnhJt2HNWLXyQ5PM_qCaBq0W2sNFcCa0rfTZd\n",
            "\n",
            "OPTIONS:\n",
            "   --config \t\tsave in this config file, default: ~/.ngrok2/ngrok.yml\n",
            "   --log \"false\"\tpath to log file, 'stdout', 'stderr' or 'false'\n",
            "   --log-format \"term\"\tlog record format: 'term', 'logfmt', 'json'\n",
            "   --log-level \"info\"\tlogging level\n",
            "\n",
            "ERROR:  You must pass a single argument, the authtoken to save to configuration file.\n",
            "**Best Model**\n",
            "Rank:  ALSModel: uid=ALS_8e99b2386106, rank=10\n",
            " MaxIter:  15\n",
            " RegParam: ALS_8e99b2386106__regParam\n"
          ]
        }
      ],
      "source": [
        "paramGrid = (ParamGridBuilder()\n",
        "             .addGrid(als.regParam, [0.01])\n",
        "             .addGrid(als.rank, [10])\n",
        "             .addGrid(als.maxIter, [15])\n",
        "             .build())\n",
        "\n",
        "evaluator = RegressionEvaluator(metricName=\"rmse\", labelCol=\"rating\",\n",
        "                                predictionCol=\"prediction\")\n",
        "\n",
        "!pip install flask-ngrok\n",
        "!pip install pyngrok==4.1.1\n",
        "!ngrok authtoken ######AUTHTOKEN GOES HERE#####\n",
        "\n",
        "\n",
        "NGROK_AUTH_TOKEN = \"Write AUTH TOKEN HERE\"  #  NGROK AUTHTOKEN\n",
        "\n",
        "import os\n",
        "import threading\n",
        "import time\n",
        "from pyngrok import ngrok, conf\n",
        "from pyspark.ml.tuning import CrossValidator\n",
        "\n",
        "cv = CrossValidator(\n",
        "    estimator=als,\n",
        "    estimatorParamMaps=paramGrid,\n",
        "    evaluator=evaluator,\n",
        "    numFolds=3,\n",
        "    parallelism=1\n",
        ")\n",
        "\n",
        "cvModel = cv.fit(training)\n",
        "best_model = cvModel.bestModel\n",
        "\n",
        "print (\"**Best Model**\")\n",
        "print (\"Rank: \", best_model)\n",
        "print (\" MaxIter: \", str(best_model._java_obj.parent().getMaxIter()))\n",
        "print (\" RegParam:\",  best_model._java_obj.parent().regParam())"
      ]
    },
    {
      "cell_type": "code",
      "execution_count": null,
      "metadata": {
        "colab": {
          "base_uri": "https://localhost:8080/"
        },
        "id": "aYcM4GJFVptR",
        "outputId": "cbb6e175-8bd1-41da-b24e-d7eb8a633a71"
      },
      "outputs": [
        {
          "output_type": "stream",
          "name": "stdout",
          "text": [
            "RMSE = 0.6512248464433695\n"
          ]
        }
      ],
      "source": [
        "predictions=best_model.transform(test)\n",
        "rmse = evaluator.evaluate(predictions)\n",
        "\n",
        "als_best = ALS(maxIter=15, rank=10, regParam=0.01, userCol=\"userId\", itemCol=\"movieId\", ratingCol=\"rating\",\n",
        "          coldStartStrategy=\"drop\")\n",
        "model = als_best.fit(training)\n",
        "\n",
        "\n",
        "predictions.createOrReplaceTempView(\"predictions\")\n",
        "# display (spark.sql(\"SELECT * FROM predictions limit 10\"))\n",
        "alldata=best_model.transform(movie_ratings)\n",
        "rmse = evaluator.evaluate(alldata)\n",
        "print (\"RMSE = \"+str(rmse))\n",
        "\n",
        "alldata.registerTempTable(\"alldata\")"
      ]
    },
    {
      "cell_type": "code",
      "execution_count": null,
      "metadata": {
        "colab": {
          "base_uri": "https://localhost:8080/"
        },
        "id": "t6htD91mWQzS",
        "outputId": "8cce026f-365e-47ee-8f13-2ad698a64954"
      },
      "outputs": [
        {
          "output_type": "stream",
          "name": "stdout",
          "text": [
            "+------+-------+------+---------+\n",
            "|userId|movieId|rating|timestamp|\n",
            "+------+-------+------+---------+\n",
            "|     1|      1|   4.0|964982703|\n",
            "|     1|      3|   4.0|964981247|\n",
            "|     1|      6|   4.0|964982224|\n",
            "|     1|     47|   5.0|964983815|\n",
            "|     1|     50|   5.0|964982931|\n",
            "+------+-------+------+---------+\n",
            "\n"
          ]
        }
      ],
      "source": [
        "ratings_df.createOrReplaceTempView(\"ratings\")\n",
        "spark.sql(\"SELECT * FROM ratings LIMIT 5\").show()"
      ]
    },
    {
      "cell_type": "code",
      "execution_count": null,
      "metadata": {
        "id": "EziccrPxVzVQ"
      },
      "outputs": [],
      "source": [
        "user_recs = best_model.recommendForAllUsers(10)\n",
        "user_recs.createOrReplaceTempView(\"user_recs\")\n",
        "# display (spark.sql(\"SELECT * FROM user_recs limit 10\"))\n",
        "user_recs.first()\n",
        "user_recs.registerTempTable(\"als_recs_temp\")\n",
        "explode_rec = spark.sql('SELECT userId,\\\n",
        "                                explode(recommendations) AS MovieRec\\\n",
        "                                FROM als_recs_temp')\n",
        "\n",
        "explode_rec.createOrReplaceTempView(\"explode_rec\")\n",
        "# display (spark.sql(\"SELECT * FROM explode_rec limit 10\"))\n",
        "fianl_recs = spark.sql(\"SELECT userId,\\\n",
        "                               movieIds_and_ratings.movieId AS movieId,\\\n",
        "                               movieIds_and_ratings.rating AS prediction\\\n",
        "                               FROM als_recs_temp\\\n",
        "                               LATERAL VIEW explode(recommendations) exploded_table AS movieIds_and_ratings\")\n",
        "\n",
        "\n",
        "\n",
        "fianl_recs.createOrReplaceTempView(\"fianl_recs\")\n",
        "# display (spark.sql(\"SELECT * FROM fianl_recs limit 10\"))\n"
      ]
    },
    {
      "cell_type": "code",
      "execution_count": null,
      "metadata": {
        "id": "PdxX1N-SV5OI"
      },
      "outputs": [],
      "source": [
        "\n",
        "final_rec = fianl_recs.join(movie_ratings,['userId','movieId'],'left').filter(movie_ratings.rating.isNull())\n",
        "final_rec.createOrReplaceTempView(\"final_rec\")\n",
        "\n",
        "# display (spark.sql(\"SELECT * FROM final_rec LIMIT 5\"))\n",
        "final_rec.registerTempTable(\"final_rec\")\n",
        "movies_df.registerTempTable(\"movies_df\")"
      ]
    },
    {
      "cell_type": "code",
      "execution_count": null,
      "metadata": {
        "colab": {
          "base_uri": "https://localhost:8080/"
        },
        "id": "YuNRTH2gWWIq",
        "outputId": "f1bf84ee-161f-44e3-b80f-c4d490f0d6f1"
      },
      "outputs": [
        {
          "output_type": "stream",
          "name": "stdout",
          "text": [
            "+------+------------------------------+\n",
            "|userId|title                         |\n",
            "+------+------------------------------+\n",
            "|575   |Capturing the Friedmans (2003)|\n",
            "|575   |Now You See Me (2013)         |\n",
            "|575   |Closer (2004)                 |\n",
            "|575   |Very Bad Things (1998)        |\n",
            "|575   |The Interview (2014)          |\n",
            "|575   |Persuasion (1995)             |\n",
            "|575   |House of Sand and Fog (2003)  |\n",
            "|575   |Jersey Girl (2004)            |\n",
            "|575   |Trekkies (1997)               |\n",
            "|575   |Peter Pan (2003)              |\n",
            "+------+------------------------------+\n",
            "\n"
          ]
        }
      ],
      "source": [
        "final_rec.createOrReplaceTempView(\"final_rec\")\n",
        "movies_df.createOrReplaceTempView(\"movies_df\")\n",
        "\n",
        "result = spark.sql(\"\"\"\n",
        "SELECT t1.userId,\n",
        "       t2.title\n",
        "FROM final_rec t1\n",
        "LEFT JOIN movies_df t2\n",
        "ON t1.movieId = t2.movieId\n",
        "WHERE t1.userId = 575\n",
        "LIMIT 10\n",
        "\"\"\")\n",
        "\n",
        "result.show(truncate=False)\n"
      ]
    },
    {
      "cell_type": "markdown",
      "source": [
        "# Plotting"
      ],
      "metadata": {
        "id": "oCXbmZzOjayA"
      }
    },
    {
      "cell_type": "code",
      "execution_count": null,
      "metadata": {
        "colab": {
          "base_uri": "https://localhost:8080/",
          "height": 1000
        },
        "id": "H1sDq0urfWDq",
        "outputId": "ff6586d5-c204-4349-dc0b-e307f266ed47"
      },
      "outputs": [
        {
          "output_type": "display_data",
          "data": {
            "text/plain": [
              "<Figure size 800x600 with 1 Axes>"
            ],
            "image/png": "[encoded data removed]"
          },
          "metadata": {}
        },
        {
          "output_type": "display_data",
          "data": {
            "text/plain": [
              "<Figure size 1000x600 with 1 Axes>"
            ],
            "image/png": "[encoded data removed]"
          },
          "metadata": {}
        },
        {
          "output_type": "display_data",
          "data": {
            "text/plain": [
              "<Figure size 1000x600 with 1 Axes>"
            ],
            "image/png": "[encoded data removed]"
          },
          "metadata": {}
        }
      ],
      "source": [
        "\n",
        "import matplotlib.pyplot as plt\n",
        "import seaborn as sns\n",
        "from pyspark.sql.functions import count\n",
        "\n",
        "rating_counts = ratings_df.groupBy(\"rating\").agg(count(\"*\").alias(\"count\")).toPandas()\n",
        "\n",
        "# Create a bar plot\n",
        "plt.figure(figsize=(8, 6))\n",
        "sns.barplot(x=\"rating\", y=\"count\", data=rating_counts)\n",
        "plt.title(\"Distribution of Movie Ratings\")\n",
        "plt.xlabel(\"Rating\")\n",
        "plt.ylabel(\"Number of Ratings\")\n",
        "plt.show()\n",
        "\n",
        "\n",
        "# Calculate the number of ratings per user\n",
        "user_ratings_count = ratings_df.groupBy(\"userId\").count().toPandas()\n",
        "\n",
        "# Create a histogram\n",
        "plt.figure(figsize=(10, 6))\n",
        "plt.hist(user_ratings_count[\"count\"], bins=50)  # Adjust the number of bins as needed\n",
        "plt.title(\"Distribution of Number of Ratings per User\")\n",
        "plt.xlabel(\"Number of Ratings\")\n",
        "plt.ylabel(\"Number of Users\")\n",
        "plt.show()\n",
        "\n",
        "\n",
        "# Calculate the number of ratings per movie\n",
        "movie_ratings_count = ratings_df.groupBy(\"movieId\").count().toPandas()\n",
        "\n",
        "# Create a histogram\n",
        "plt.figure(figsize=(10, 6))\n",
        "plt.hist(movie_ratings_count[\"count\"], bins=50)  # Adjust the number of bins as needed\n",
        "plt.title(\"Distribution of Number of Ratings per Movie\")\n",
        "plt.xlabel(\"Number of Ratings\")\n",
        "plt.ylabel(\"Number of Movies\")\n",
        "plt.show()\n"
      ]
    },
    {
      "cell_type": "code",
      "execution_count": null,
      "metadata": {
        "colab": {
          "base_uri": "https://localhost:8080/",
          "height": 675
        },
        "id": "ipvZ2-D-f1w6",
        "outputId": "ded4aa70-6623-40d5-fff3-ed295e54a62e"
      },
      "outputs": [
        {
          "output_type": "display_data",
          "data": {
            "text/plain": [
              "<Figure size 800x800 with 1 Axes>"
            ],
            "image/png": "[encoded data removed]"
          },
          "metadata": {}
        }
      ],
      "source": [
        "\n",
        "rating_counts = ratings_df.groupBy(\"rating\").agg(count(\"*\").alias(\"count\")).toPandas()\n",
        "\n",
        "# Create a pie chart\n",
        "plt.figure(figsize=(8, 8))\n",
        "plt.pie(rating_counts[\"count\"], labels=rating_counts[\"rating\"], autopct=\"%1.1f%%\", startangle=90)\n",
        "plt.title(\"Distribution of Movie Ratings\")\n",
        "plt.axis(\"equal\")\n",
        "plt.show()\n"
      ]
    },
    {
      "cell_type": "code",
      "execution_count": null,
      "metadata": {
        "id": "1XXcbvIngASC"
      },
      "outputs": [],
      "source": []
    },
    {
      "cell_type": "code",
      "source": [],
      "metadata": {
        "id": "oglXSai-TWyQ"
      },
      "execution_count": null,
      "outputs": []
    },
    {
      "cell_type": "markdown",
      "source": [],
      "metadata": {
        "id": "7dSA1E9-jPaK"
      }
    },
    {
      "cell_type": "code",
      "source": [
        "# from pyspark.sql import SparkSession\n",
        "# from pyspark.ml.recommendation import ALS\n",
        "# from pyspark.ml.evaluation import RegressionEvaluator\n",
        "# from pyspark.sql.functions import col\n",
        "\n",
        "# # Initialize Spark session\n",
        "# spark = SparkSession.builder \\\n",
        "#     .appName(\"MovieRecommendationSystem\") \\\n",
        "#     .getOrCreate()\n",
        "\n",
        "# # Load ratings and movies data\n",
        "# ratings_df = spark.read.csv(\"/content/drive/MyDrive/ml-latest-small/ml-latest-small/ratings.csv\", header=True, inferSchema=True)\n",
        "# movies_df = spark.read.csv(\"/content/drive/MyDrive/ml-latest-small/ml-latest-small/movies.csv\", header=True, inferSchema=True)\n",
        "\n",
        "# # Show schema\n",
        "# ratings_df.printSchema()\n",
        "\n",
        "# # Prepare data (drop timestamp)\n",
        "# ratings = ratings_df.drop(\"timestamp\")\n",
        "\n",
        "# # Split the data into training and testing\n",
        "# train_data, test_data = ratings.randomSplit([0.8, 0.2], seed=42)\n",
        "\n",
        "# # Build ALS collaborative filtering model\n",
        "# als = ALS(\n",
        "#     maxIter=10,\n",
        "#     regParam=0.1,\n",
        "#     userCol=\"userId\",\n",
        "#     itemCol=\"movieId\",\n",
        "#     ratingCol=\"rating\",\n",
        "#     coldStartStrategy=\"drop\",\n",
        "#     nonnegative=True\n",
        "# )\n",
        "\n",
        "# # Train the model\n",
        "# model = als.fit(train_data)\n",
        "\n",
        "# # Evaluate the model on test data\n",
        "# predictions = model.transform(test_data)\n",
        "\n",
        "# evaluator = RegressionEvaluator(\n",
        "#     metricName=\"rmse\",\n",
        "#     labelCol=\"rating\",\n",
        "#     predictionCol=\"prediction\"\n",
        "# )\n",
        "# rmse = evaluator.evaluate(predictions)\n",
        "# print(f\"Root-mean-square error = {rmse:.4f}\")\n",
        "\n",
        "# # Generate top 10 movie recommendations for each user\n",
        "# user_recs = model.recommendForAllUsers(10)\n",
        "\n",
        "# # Show top 10 recommendations for a sample user\n",
        "# sample_user_id = 1\n",
        "# user_subset = user_recs.filter(col(\"userId\") == sample_user_id)\n",
        "# user_subset.show(truncate=False)\n",
        "\n",
        "# # Optional: Map movieId to movie title\n",
        "# from pyspark.sql.functions import explode\n",
        "\n",
        "# recommendations = user_subset.select(\"userId\", explode(\"recommendations\").alias(\"rec\"))\n",
        "# recommendations = recommendations.select(\"userId\", col(\"rec.movieId\").alias(\"movieId\"), col(\"rec.rating\").alias(\"score\"))\n",
        "\n",
        "# # Join with movie titles\n",
        "# recommended_movies = recommendations.join(movies_df, on=\"movieId\").select(\"title\", \"score\").orderBy(\"score\", ascending=False)\n",
        "# recommended_movies.show(truncate=False)\n",
        "\n",
        "# # Stop the Spark session\n",
        "# spark.stop()\n",
        "\n",
        "\n",
        "# from pyspark.sql import SparkSession\n",
        "# from pyspark.ml.recommendation import ALS\n",
        "# from pyspark.ml.evaluation import RegressionEvaluator\n",
        "# from pyspark.sql.functions import col\n",
        "\n",
        "# # Initialize Spark session\n",
        "# spark = SparkSession.builder \\\n",
        "#     .appName(\"MovieRecommendationSystem\") \\\n",
        "#     .getOrCreate()\n",
        "\n",
        "# # Load ratings and movies data\n",
        "# ratings_df = spark.read.csv(\"/content/drive/MyDrive/ml-latest-small/ml-latest-small/ratings.csv\", header=True, inferSchema=True)\n",
        "# movies_df = spark.read.csv(\"/content/drive/MyDrive/ml-latest-small/ml-latest-small/movies.csv\", header=True, inferSchema=True)\n",
        "\n",
        "# # Show schema\n",
        "# ratings_df.printSchema()\n",
        "\n",
        "# # Prepare data (drop timestamp)\n",
        "# ratings = ratings_df.drop(\"timestamp\")\n",
        "\n",
        "# # Split the data into training and testing\n",
        "# train_data, test_data = ratings.randomSplit([0.8, 0.2], seed=42)\n",
        "\n",
        "# # Build ALS collaborative filtering model\n",
        "# als = ALS(\n",
        "#     maxIter=10,\n",
        "#     regParam=0.1,\n",
        "#     userCol=\"userId\",\n",
        "#     itemCol=\"movieId\",\n",
        "#     ratingCol=\"rating\",\n",
        "#     coldStartStrategy=\"drop\",\n",
        "#     nonnegative=True\n",
        "# )\n",
        "\n",
        "# # Train the model\n",
        "# model = als.fit(train_data)\n",
        "\n",
        "# # Evaluate the model on test data\n",
        "# predictions = model.transform(test_data)\n",
        "\n",
        "# evaluator = RegressionEvaluator(\n",
        "#     metricName=\"rmse\",\n",
        "#     labelCol=\"rating\",\n",
        "#     predictionCol=\"prediction\"\n",
        "# )\n",
        "# rmse = evaluator.evaluate(predictions)\n",
        "# print(f\"Root-mean-square error = {rmse:.4f}\")\n",
        "\n",
        "# # Generate top 10 movie recommendations for each user\n",
        "# user_recs = model.recommendForAllUsers(10)\n",
        "\n",
        "# # Show top 10 recommendations for a sample user\n",
        "# sample_user_id = 1\n",
        "# user_subset = user_recs.filter(col(\"userId\") == sample_user_id)\n",
        "# user_subset.show(truncate=False)\n",
        "\n",
        "# # Optional: Map movieId to movie title\n",
        "# from pyspark.sql.functions import explode\n",
        "\n",
        "# recommendations = user_subset.select(\"userId\", explode(\"recommendations\").alias(\"rec\"))\n",
        "# recommendations = recommendations.select(\"userId\", col(\"rec.movieId\").alias(\"movieId\"), col(\"rec.rating\").alias(\"score\"))\n",
        "\n",
        "# # Join with movie titles\n",
        "# recommended_movies = recommendations.join(movies_df, on=\"movieId\").select(\"title\", \"score\").orderBy(\"score\", ascending=False)\n",
        "# recommended_movies.show(truncate=False)\n",
        "\n",
        "# # Stop the Spark session\n",
        "# spark.stop()\n"
      ],
      "metadata": {
        "id": "Bu9zNvRXTWvQ"
      },
      "execution_count": null,
      "outputs": []
    }
  ],
  "metadata": {
    "colab": {
      "provenance": []
    },
    "kernelspec": {
      "display_name": "Python 3",
      "name": "python3"
    },
    "language_info": {
      "name": "python"
    }
  },
  "nbformat": 4,
  "nbformat_minor": 0
}